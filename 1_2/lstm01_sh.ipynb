{
 "nbformat": 4,
 "nbformat_minor": 0,
 "metadata": {
  "colab": {
   "name": "lstm01_sh",
   "private_outputs": true,
   "provenance": [],
   "collapsed_sections": [],
   "machine_shape": "hm"
  },
  "kernelspec": {
   "name": "python3",
   "display_name": "Python 3"
  },
  "language_info": {
   "name": "python"
  },
  "accelerator": "GPU",
  "gpuClass": "standard"
 },
 "cells": [
  {
   "cell_type": "code",
   "source": [
    "import numpy as np\n",
    "import pandas as pd\n",
    "import tensorflow as tf\n",
    "from keras.layers import Dense, LSTM, Dropout\n",
    "from keras.models import Sequential\n",
    "\n",
    "from keras.models import Sequential\n",
    "from keras.layers import Dense\n",
    "from keras.layers import Flatten\n",
    "from keras.layers import LSTM\n",
    "from keras.layers import RepeatVector\n",
    "from keras.layers import TimeDistributed\n",
    "from keras.layers.convolutional import Conv1D\n",
    "from keras.layers.convolutional import MaxPooling1D\n",
    "\n",
    "colnames = ['isitu-LST',\n",
    "            'Band1','Band2','Band3','Band4','Band6','Band7','Band8','Band9',\n",
    "            'Band10' ,'Band11','Band12','Band13','Band14','Band15','Band16',\n",
    "            '30daysBand3','30daysBand13',\n",
    "            'SolarZA','SateZA','ESR','Height',\n",
    "            'LandType',\n",
    "            'insitu-HM','insitu-TD', \n",
    "            'month', 'time']\n",
    "\n",
    "def load_data(filename):  # 필요에 따라 레이블을 사용할수도 안할수도 있음\n",
    "    df = pd.read_csv(filename)[colnames]\n",
    "\n",
    "    X = df.loc[:, colnames[1:]].values\n",
    "    y = df.loc[:, colnames[0]].values  # 레이블 값을 지난번과 다르게 0~8까지로 사용하도록 변경\n",
    "\n",
    "    return X, y\n",
    "\n",
    "\n",
    "\n",
    "X, y = load_data(\"merge_data_56789.csv\")\n",
    "\n",
    "# X, y = load_data(\"/content/drive/MyDrive/wheather/data/과제_최종_1/과제2 결측치 제거.csv\")\n",
    "\n",
    "# X, y = load_data(\"/content/drive/MyDrive/wheather/data/remove_outlier.csv\")\n",
    "# X, y = load_data(\"/content/drive/MyDrive/wheather/data/과제2 결측제거/과제2 결측치 제거.csv\")\n",
    "# X, y = load_data(\"/content/drive/MyDrive/wheather/data/과제2 결측제거 5689/과제2 결측치 제거.csv\")\n",
    "# X, y = load_data(\"/content/drive/MyDrive/wheather/data/과제2 결측제거 extract_col/과제2 결측치 제거.csv\")\n",
    "\n",
    "print(X.shape, y.shape)"
   ],
   "metadata": {
    "id": "I7L2PoztwkLT",
    "pycharm": {
     "name": "#%%\n"
    }
   },
   "execution_count": 1,
   "outputs": [
    {
     "name": "stdout",
     "output_type": "stream",
     "text": [
      "(4176440, 26) (4176440,)\n"
     ]
    }
   ]
  },
  {
   "cell_type": "code",
   "source": [
    "y.min(), y.max()\n",
    "\n",
    "model = Sequential()\n",
    "\n",
    "early_stopping = tf.keras.callbacks.EarlyStopping(monitor=\"val_loss\", patience=3)\n",
    "checkpoint = tf.keras.callbacks.ModelCheckpoint(\"lstm01.h5\", monitor=\"val_loss\", verbose=1 , save_best_only=True, mode=\"auto\")\n",
    "\n",
    "Adam = tf.keras.optimizers.Adam(clipnorm=1.)\n",
    "\n",
    "model = Sequential()\n",
    "\n",
    "# model.add(Conv1D(filters=64, kernel_size=3, activation='relu', input_shape=(25, int(len(colnames)-1))))\n",
    "# # model.add(Conv1D(filters=64, kernel_size=3, activation='relu'))\n",
    "# model.add(MaxPooling1D(pool_size=2))\n",
    "# model.add(Flatten())\n",
    "# model.add(RepeatVector(64))\n",
    "\n",
    "# model.add(Conv1D(filters=64, kernel_size=3, activation='relu', input_shape=(64, int(len(colnames)-1))))\n",
    "# model.add(Conv1D(filters=64, kernel_size=3, activation='relu'))\n",
    "# model.add(MaxPooling1D(pool_size=2))\n",
    "# model.add(Flatten())\n",
    "# model.add(RepeatVector(64))\n",
    "\n",
    "model.add(LSTM(256, input_shape=(int(len(colnames)-1), 1), return_sequences=True)) #input_shape은 x의 라벨값 6개 시퀀스 출력은 True 512차원 출력\n",
    "model.add(Dropout(0.5)) #과적합 방지를 위한 드랍아웃 비율은 0.5\n",
    "model.add(LSTM(128, return_sequences=True)) #LSTM 층  256차원출력+\n",
    "model.add(Dropout(0.5)) #드랍아웃 층\n",
    "model.add(LSTM(64, return_sequences=True)) #LSTM 층  256차원출력+\n",
    "model.add(Dropout(0.5)) #드랍아웃 층\n",
    "# model.add(LSTM(32)) #LSTM층 128차원 출력\n",
    "# model.add(Dropout(0.5)) #과적합 방지를 위한 드랍아웃 비율은 0.5\n",
    "model.add(Dense(100)) #활성화 함수\n",
    "model.add(Flatten())\n",
    "model.add(Dense(1, activation='relu')) #활성화 함수\n",
    "\n",
    "# model.compile(loss='mean_squared_error', optimizer='rmsprop', metrics=['mse'])\n",
    "model.compile(loss='mean_squared_error', optimizer=Adam, metrics=['mse'])\n",
    "model.summary()\n",
    "\n",
    "model.fit(X, y, epochs=100, batch_size=1024, verbose=1, callbacks=[early_stopping, checkpoint])"
   ],
   "metadata": {
    "id": "KDBmukdHIixO",
    "pycharm": {
     "name": "#%%\n"
    }
   },
   "execution_count": 3,
   "outputs": [
    {
     "name": "stdout",
     "output_type": "stream",
     "text": [
      "Model: \"sequential_3\"\n",
      "_________________________________________________________________\n",
      " Layer (type)                Output Shape              Param #   \n",
      "=================================================================\n",
      " lstm_4 (LSTM)               (None, 26, 256)           264192    \n",
      "                                                                 \n",
      " dropout_4 (Dropout)         (None, 26, 256)           0         \n",
      "                                                                 \n",
      " lstm_5 (LSTM)               (None, 26, 128)           197120    \n",
      "                                                                 \n",
      " dropout_5 (Dropout)         (None, 26, 128)           0         \n",
      "                                                                 \n",
      " lstm_6 (LSTM)               (None, 26, 64)            49408     \n",
      "                                                                 \n",
      " dropout_6 (Dropout)         (None, 26, 64)            0         \n",
      "                                                                 \n",
      " dense_2 (Dense)             (None, 26, 100)           6500      \n",
      "                                                                 \n",
      " flatten_1 (Flatten)         (None, 2600)              0         \n",
      "                                                                 \n",
      " dense_3 (Dense)             (None, 1)                 2601      \n",
      "                                                                 \n",
      "=================================================================\n",
      "Total params: 519,821\n",
      "Trainable params: 519,821\n",
      "Non-trainable params: 0\n",
      "_________________________________________________________________\n",
      "Epoch 1/100\n"
     ]
    },
    {
     "name": "stderr",
     "output_type": "stream",
     "text": [
      "2022-08-01 08:27:39.103441: I tensorflow/core/grappler/optimizers/custom_graph_optimizer_registry.cc:113] Plugin optimizer for device_type GPU is enabled.\n",
      "2022-08-01 08:27:39.477218: I tensorflow/core/grappler/optimizers/custom_graph_optimizer_registry.cc:113] Plugin optimizer for device_type GPU is enabled.\n",
      "2022-08-01 08:27:39.542351: I tensorflow/core/grappler/optimizers/custom_graph_optimizer_registry.cc:113] Plugin optimizer for device_type GPU is enabled.\n",
      "2022-08-01 08:27:39.632828: I tensorflow/core/grappler/optimizers/custom_graph_optimizer_registry.cc:113] Plugin optimizer for device_type GPU is enabled.\n",
      "2022-08-01 08:27:40.401381: I tensorflow/core/grappler/optimizers/custom_graph_optimizer_registry.cc:113] Plugin optimizer for device_type GPU is enabled.\n",
      "2022-08-01 08:27:40.487711: I tensorflow/core/grappler/optimizers/custom_graph_optimizer_registry.cc:113] Plugin optimizer for device_type GPU is enabled.\n",
      "2022-08-01 08:27:40.577635: I tensorflow/core/grappler/optimizers/custom_graph_optimizer_registry.cc:113] Plugin optimizer for device_type GPU is enabled.\n"
     ]
    },
    {
     "name": "stdout",
     "output_type": "stream",
     "text": [
      "4079/4079 [==============================] - ETA: 0s - loss: 11.7123 - mse: 11.7123WARNING:tensorflow:Early stopping conditioned on metric `val_loss` which is not available. Available metrics are: loss,mse\n",
      "WARNING:tensorflow:Can save best model only with val_loss available, skipping.\n",
      "4079/4079 [==============================] - 680s 166ms/step - loss: 11.7123 - mse: 11.7123\n",
      "Epoch 2/100\n",
      "4079/4079 [==============================] - ETA: 0s - loss: 6.7791 - mse: 6.7791WARNING:tensorflow:Early stopping conditioned on metric `val_loss` which is not available. Available metrics are: loss,mse\n",
      "WARNING:tensorflow:Can save best model only with val_loss available, skipping.\n",
      "4079/4079 [==============================] - 674s 165ms/step - loss: 6.7791 - mse: 6.7791\n",
      "Epoch 3/100\n",
      "4079/4079 [==============================] - ETA: 0s - loss: 6.3818 - mse: 6.3818WARNING:tensorflow:Early stopping conditioned on metric `val_loss` which is not available. Available metrics are: loss,mse\n",
      "WARNING:tensorflow:Can save best model only with val_loss available, skipping.\n",
      "4079/4079 [==============================] - 669s 164ms/step - loss: 6.3818 - mse: 6.3818\n",
      "Epoch 4/100\n",
      "4079/4079 [==============================] - ETA: 0s - loss: 5.9971 - mse: 5.9971WARNING:tensorflow:Early stopping conditioned on metric `val_loss` which is not available. Available metrics are: loss,mse\n",
      "WARNING:tensorflow:Can save best model only with val_loss available, skipping.\n",
      "4079/4079 [==============================] - 695s 170ms/step - loss: 5.9971 - mse: 5.9971\n",
      "Epoch 5/100\n",
      "4079/4079 [==============================] - ETA: 0s - loss: 5.6254 - mse: 5.6254WARNING:tensorflow:Early stopping conditioned on metric `val_loss` which is not available. Available metrics are: loss,mse\n",
      "WARNING:tensorflow:Can save best model only with val_loss available, skipping.\n",
      "4079/4079 [==============================] - 727s 178ms/step - loss: 5.6254 - mse: 5.6254\n",
      "Epoch 6/100\n",
      "4079/4079 [==============================] - ETA: 0s - loss: 5.3191 - mse: 5.3191WARNING:tensorflow:Early stopping conditioned on metric `val_loss` which is not available. Available metrics are: loss,mse\n",
      "WARNING:tensorflow:Can save best model only with val_loss available, skipping.\n",
      "4079/4079 [==============================] - 729s 179ms/step - loss: 5.3191 - mse: 5.3191\n",
      "Epoch 7/100\n",
      "4079/4079 [==============================] - ETA: 0s - loss: 5.0396 - mse: 5.0396WARNING:tensorflow:Early stopping conditioned on metric `val_loss` which is not available. Available metrics are: loss,mse\n",
      "WARNING:tensorflow:Can save best model only with val_loss available, skipping.\n",
      "4079/4079 [==============================] - 729s 179ms/step - loss: 5.0396 - mse: 5.0396\n",
      "Epoch 8/100\n",
      "4079/4079 [==============================] - ETA: 0s - loss: 4.8018 - mse: 4.8018WARNING:tensorflow:Early stopping conditioned on metric `val_loss` which is not available. Available metrics are: loss,mse\n",
      "WARNING:tensorflow:Can save best model only with val_loss available, skipping.\n",
      "4079/4079 [==============================] - 730s 179ms/step - loss: 4.8018 - mse: 4.8018\n",
      "Epoch 9/100\n",
      "4079/4079 [==============================] - ETA: 0s - loss: 4.6578 - mse: 4.6578WARNING:tensorflow:Early stopping conditioned on metric `val_loss` which is not available. Available metrics are: loss,mse\n",
      "WARNING:tensorflow:Can save best model only with val_loss available, skipping.\n",
      "4079/4079 [==============================] - 730s 179ms/step - loss: 4.6578 - mse: 4.6578\n",
      "Epoch 10/100\n",
      "4079/4079 [==============================] - ETA: 0s - loss: 4.5149 - mse: 4.5149WARNING:tensorflow:Early stopping conditioned on metric `val_loss` which is not available. Available metrics are: loss,mse\n",
      "WARNING:tensorflow:Can save best model only with val_loss available, skipping.\n",
      "4079/4079 [==============================] - 732s 179ms/step - loss: 4.5149 - mse: 4.5149\n",
      "Epoch 11/100\n",
      "4079/4079 [==============================] - ETA: 0s - loss: 4.4182 - mse: 4.4182WARNING:tensorflow:Early stopping conditioned on metric `val_loss` which is not available. Available metrics are: loss,mse\n",
      "WARNING:tensorflow:Can save best model only with val_loss available, skipping.\n",
      "4079/4079 [==============================] - 734s 180ms/step - loss: 4.4182 - mse: 4.4182\n",
      "Epoch 12/100\n",
      "4079/4079 [==============================] - ETA: 0s - loss: 4.3228 - mse: 4.3228WARNING:tensorflow:Early stopping conditioned on metric `val_loss` which is not available. Available metrics are: loss,mse\n",
      "WARNING:tensorflow:Can save best model only with val_loss available, skipping.\n",
      "4079/4079 [==============================] - 735s 180ms/step - loss: 4.3228 - mse: 4.3228\n",
      "Epoch 13/100\n",
      "4079/4079 [==============================] - ETA: 0s - loss: 4.2409 - mse: 4.2409WARNING:tensorflow:Early stopping conditioned on metric `val_loss` which is not available. Available metrics are: loss,mse\n",
      "WARNING:tensorflow:Can save best model only with val_loss available, skipping.\n",
      "4079/4079 [==============================] - 736s 180ms/step - loss: 4.2409 - mse: 4.2409\n",
      "Epoch 14/100\n",
      "4079/4079 [==============================] - ETA: 0s - loss: 4.1502 - mse: 4.1502WARNING:tensorflow:Early stopping conditioned on metric `val_loss` which is not available. Available metrics are: loss,mse\n",
      "WARNING:tensorflow:Can save best model only with val_loss available, skipping.\n",
      "4079/4079 [==============================] - 737s 181ms/step - loss: 4.1502 - mse: 4.1502\n",
      "Epoch 15/100\n",
      "4079/4079 [==============================] - ETA: 0s - loss: 4.0611 - mse: 4.0611WARNING:tensorflow:Early stopping conditioned on metric `val_loss` which is not available. Available metrics are: loss,mse\n",
      "WARNING:tensorflow:Can save best model only with val_loss available, skipping.\n",
      "4079/4079 [==============================] - 738s 181ms/step - loss: 4.0611 - mse: 4.0611\n",
      "Epoch 16/100\n",
      "4079/4079 [==============================] - ETA: 0s - loss: 4.0091 - mse: 4.0091WARNING:tensorflow:Early stopping conditioned on metric `val_loss` which is not available. Available metrics are: loss,mse\n",
      "WARNING:tensorflow:Can save best model only with val_loss available, skipping.\n",
      "4079/4079 [==============================] - 738s 181ms/step - loss: 4.0091 - mse: 4.0091\n",
      "Epoch 17/100\n",
      "4079/4079 [==============================] - ETA: 0s - loss: 3.9348 - mse: 3.9348WARNING:tensorflow:Early stopping conditioned on metric `val_loss` which is not available. Available metrics are: loss,mse\n",
      "WARNING:tensorflow:Can save best model only with val_loss available, skipping.\n",
      "4079/4079 [==============================] - 738s 181ms/step - loss: 3.9348 - mse: 3.9348\n",
      "Epoch 18/100\n",
      "4079/4079 [==============================] - ETA: 0s - loss: 3.8785 - mse: 3.8785WARNING:tensorflow:Early stopping conditioned on metric `val_loss` which is not available. Available metrics are: loss,mse\n",
      "WARNING:tensorflow:Can save best model only with val_loss available, skipping.\n",
      "4079/4079 [==============================] - 739s 181ms/step - loss: 3.8785 - mse: 3.8785\n",
      "Epoch 19/100\n",
      "4079/4079 [==============================] - ETA: 0s - loss: 3.8089 - mse: 3.8089WARNING:tensorflow:Early stopping conditioned on metric `val_loss` which is not available. Available metrics are: loss,mse\n",
      "WARNING:tensorflow:Can save best model only with val_loss available, skipping.\n",
      "4079/4079 [==============================] - 739s 181ms/step - loss: 3.8089 - mse: 3.8089\n",
      "Epoch 20/100\n",
      "4079/4079 [==============================] - ETA: 0s - loss: 3.7789 - mse: 3.7789WARNING:tensorflow:Early stopping conditioned on metric `val_loss` which is not available. Available metrics are: loss,mse\n",
      "WARNING:tensorflow:Can save best model only with val_loss available, skipping.\n",
      "4079/4079 [==============================] - 739s 181ms/step - loss: 3.7789 - mse: 3.7789\n",
      "Epoch 21/100\n",
      " 601/4079 [===>..........................] - ETA: 9:43 - loss: 3.7303 - mse: 3.7303"
     ]
    },
    {
     "name": "stderr",
     "output_type": "stream",
     "text": [
      "Exception ignored in: <generator object iter_fields at 0x41600ef20>\n",
      "Traceback (most recent call last):\n",
      "  File \"/Users/sehunkim/miniforge3/lib/python3.9/ast.py\", line 251, in iter_fields\n",
      "    yield field, getattr(node, field)\n",
      "KeyboardInterrupt: \n",
      "\n",
      "KeyboardInterrupt\n",
      "\n"
     ]
    }
   ]
  },
  {
   "cell_type": "code",
   "source": [
    "model.save(\"./pknu_lstm4_56789.h5\")"
   ],
   "metadata": {
    "id": "tPJ-xaykfl_X",
    "pycharm": {
     "name": "#%%\n"
    }
   },
   "execution_count": null,
   "outputs": []
  },
  {
   "cell_type": "code",
   "source": [
    "from sklearn.metrics import mean_squared_error, mean_absolute_error\n",
    "import numpy as np\n",
    "\n",
    "# X, y = load_data(\"/content/drive/MyDrive/wheather/data/only78.csv\")\n",
    "test_df = pd.read_csv(\"/content/drive/MyDrive/wheather/test/only78.csv\")[colnames].astype(np.float32)\n",
    "X = test_df.loc[:, colnames[1:]].values\n",
    "y = test_df.loc[:, colnames[0]].values\n",
    "\n",
    "y_score = model.predict(X)\n",
    "print(\"MSE: \" + str(mean_squared_error(y, y_score)))\n",
    "print(\"RMSE: \" + str(np.sqrt(mean_squared_error(y, y_score))))\n",
    "print(\"MAE: \" + str(mean_absolute_error(y, y_score)))\n",
    "# y_pred = np.argmax(y_score, axis=1)\n",
    "# pd.Series(y_pred, name=check_col[0]).to_csv(\"LSTM_result.csv\")"
   ],
   "metadata": {
    "id": "AJ-Q7M2JzJam",
    "pycharm": {
     "name": "#%%\n"
    }
   },
   "execution_count": null,
   "outputs": []
  },
  {
   "cell_type": "code",
   "source": [
    "import pandas as pd\n",
    "\n",
    "\n",
    "extract_col = ['YearMonthDayHourMinute', 'isitu-LST','insitu-TG','Band1','Band2','Band3','Band4','Band6','Band7','Band8','Band9','Band10','Band11','Band12','Band13','Band14','Band15','Band16','30daysBand3','30daysBand13','SolarZA','SateZA','ESR','Height','LandType','insitu-HM','insitu-TD']\n",
    "\n",
    "df = pd.read_csv(\"/content/drive/MyDrive/wheather/data/과제2 결측치 제거_3.2g.csv\")[extract_col]\n",
    "df['month'] = pd.to_datetime(df['YearMonthDayHourMinute'], format='%Y%m%d%H%M%S').dt.strftime('%m').astype(int)\n",
    "extract_col.append('month')\n",
    "\n",
    "# df['LandType'] += 1\n",
    "\n",
    "df.to_csv(\"/content/drive/MyDrive/wheather/data/과제2 결측치 제거_3.2g_2.csv\")"
   ],
   "metadata": {
    "id": "CVEYiMyVBqou",
    "pycharm": {
     "name": "#%%\n"
    }
   },
   "execution_count": null,
   "outputs": []
  }
 ]
}