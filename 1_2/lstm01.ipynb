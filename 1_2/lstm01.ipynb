{
 "nbformat": 4,
 "nbformat_minor": 0,
 "metadata": {
  "colab": {
   "name": "lstm01.ipynb",
   "private_outputs": true,
   "provenance": [],
   "collapsed_sections": [],
   "machine_shape": "hm"
  },
  "kernelspec": {
   "name": "python3",
   "display_name": "Python 3"
  },
  "language_info": {
   "name": "python"
  },
  "accelerator": "GPU",
  "gpuClass": "standard"
 },
 "cells": [
  {
   "cell_type": "code",
   "execution_count": 10,
   "outputs": [
    {
     "name": "stdout",
     "output_type": "stream",
     "text": [
      "(10227754, 25) (10227754,)\n"
     ]
    }
   ],
   "source": [
    "import numpy as np\n",
    "import pandas as pd\n",
    "import tensorflow as tf\n",
    "from keras.layers import Dense, LSTM, Dropout\n",
    "from keras.models import Sequential\n",
    "\n",
    "from keras.models import Sequential\n",
    "from keras.layers import Dense\n",
    "from keras.layers import Flatten\n",
    "from keras.layers import LSTM\n",
    "from keras.layers import RepeatVector\n",
    "from keras.layers import TimeDistributed\n",
    "from keras.layers.convolutional import Conv1D\n",
    "from keras.layers.convolutional import MaxPooling1D\n",
    "\n",
    "colnames = [\n",
    "            'isitu-LST',\n",
    "            'Band1','Band2','Band3','Band4','Band6','Band7','Band8','Band9',\n",
    "            'Band10' ,'Band11','Band12','Band13','Band14','Band15','Band16',\n",
    "            '30daysBand3','30daysBand13',\n",
    "            'SolarZA','SateZA','ESR','Height',\n",
    "            'LandType',\n",
    "            'insitu-HM','insitu-TD',\n",
    "            'month']\n",
    "\n",
    "def load_data(filename):  # 필요에 따라 레이블을 사용할수도 안할수도 있음\n",
    "\n",
    "    df = pd.read_csv(filename)[colnames]\n",
    "\n",
    "    X = df.loc[:, colnames[1:]].values\n",
    "    y = df.loc[:, colnames[0]].values  # 레이블 값을 지난번과 다르게 0~8까지로 사용하도록 변경\n",
    "\n",
    "    return X, y\n",
    "\n",
    "\n",
    "\n",
    "X, y = load_data(\"과제2 결측치 제거-004.csv\")\n",
    "\n",
    "# X, y = load_data(\"/content/drive/MyDrive/wheather/data/remove_outlier.csv\")\n",
    "# X, y = load_data(\"/content/drive/MyDrive/wheather/data/과제2 결측제거/과제2 결측치 제거.csv\")\n",
    "# X, y = load_data(\"/content/drive/MyDrive/wheather/data/과제2 결측제거 5689/과제2 결측치 제거.csv\")\n",
    "# X, y = load_data(\"/content/drive/MyDrive/wheather/data/과제2 결측제거 extract_col/과제2 결측치 제거.csv\")\n",
    "\n",
    "print(X.shape, y.shape)"
   ],
   "metadata": {
    "collapsed": false,
    "pycharm": {
     "name": "#%%\n"
    }
   }
  },
  {
   "cell_type": "code",
   "source": [
    "y.min(), y.max()\n",
    "model = Sequential()\n",
    "\n",
    "early_stopping = tf.keras.callbacks.EarlyStopping(monitor=\"val_loss\", patience=3)\n",
    "checkpoint = tf.keras.callbacks.ModelCheckpoint(\"lstm01.h5\", monitor=\"val_loss\", verbose=1 , save_best_only=True, mode=\"auto\")\n",
    "\n",
    "Adam = tf.keras.optimizers.Adam(clipnorm=1.)\n",
    "\n",
    "model = Sequential()\n",
    "\n",
    "# model.add(Conv1D(filters=64, kernel_size=3, activation='relu', input_shape=(64, int(len(colnames)-1))))\n",
    "# model.add(Conv1D(filters=64, kernel_size=3, activation='relu', input_shape=(X.shape(1), int(len(check_col)-1))))\n",
    "# model.add(Conv1D(filters=64, kernel_size=3, activation='relu'))\n",
    "# model.add(MaxPooling1D(pool_size=2))\n",
    "# model.add(Flatten())\n",
    "# model.add(RepeatVector(64))\n",
    "\n",
    "model.add(LSTM(256, input_shape=(int(len(colnames)-1), 1), return_sequences=True)) #input_shape은 x의 라벨값 6개 시퀀스 출력은 True 512차원 출력\n",
    "model.add(Dropout(0.5)) #과적합 방지를 위한 드랍아웃 비율은 0.5\n",
    "model.add(LSTM(256, return_sequences=True)) #LSTM 층  256차원출력+\n",
    "model.add(Dropout(0.5)) #드랍아웃 층\n",
    "model.add(LSTM(128)) #LSTM층 128차원 출력\n",
    "model.add(Dense(100)) #활성화 함수\n",
    "model.add(Dense(1, activation='relu')) #활성화 함수\n",
    "\n",
    "# model.compile(loss='mean_squared_error', optimizer='rmsprop', metrics=['mse'])\n",
    "model.compile(loss='mean_squared_error', optimizer=Adam, metrics=['mse'])\n",
    "model.summary()\n",
    "\n",
    "model.fit(X, y, epochs=2, batch_size=8192, verbose=1, callbacks=[early_stopping, checkpoint])"
   ],
   "metadata": {
    "id": "KDBmukdHIixO",
    "pycharm": {
     "name": "#%%\n",
     "is_executing": true
    }
   },
   "execution_count": null,
   "outputs": [
    {
     "name": "stdout",
     "output_type": "stream",
     "text": [
      "Model: \"sequential_3\"\n",
      "_________________________________________________________________\n",
      " Layer (type)                Output Shape              Param #   \n",
      "=================================================================\n",
      " lstm_3 (LSTM)               (None, 25, 256)           264192    \n",
      "                                                                 \n",
      " dropout_2 (Dropout)         (None, 25, 256)           0         \n",
      "                                                                 \n",
      " lstm_4 (LSTM)               (None, 25, 256)           525312    \n",
      "                                                                 \n",
      " dropout_3 (Dropout)         (None, 25, 256)           0         \n",
      "                                                                 \n",
      " lstm_5 (LSTM)               (None, 128)               197120    \n",
      "                                                                 \n",
      " dense_2 (Dense)             (None, 100)               12900     \n",
      "                                                                 \n",
      " dense_3 (Dense)             (None, 1)                 101       \n",
      "                                                                 \n",
      "=================================================================\n",
      "Total params: 999,625\n",
      "Trainable params: 999,625\n",
      "Non-trainable params: 0\n",
      "_________________________________________________________________\n",
      "Epoch 1/2\n"
     ]
    },
    {
     "name": "stderr",
     "output_type": "stream",
     "text": [
      "2022-07-30 15:36:34.400679: I tensorflow/core/grappler/optimizers/custom_graph_optimizer_registry.cc:113] Plugin optimizer for device_type GPU is enabled.\n",
      "2022-07-30 15:36:34.911271: I tensorflow/core/grappler/optimizers/custom_graph_optimizer_registry.cc:113] Plugin optimizer for device_type GPU is enabled.\n",
      "2022-07-30 15:36:34.998832: I tensorflow/core/grappler/optimizers/custom_graph_optimizer_registry.cc:113] Plugin optimizer for device_type GPU is enabled.\n",
      "2022-07-30 15:36:39.112543: I tensorflow/core/grappler/optimizers/custom_graph_optimizer_registry.cc:113] Plugin optimizer for device_type GPU is enabled.\n",
      "2022-07-30 15:36:40.570335: I tensorflow/core/grappler/optimizers/custom_graph_optimizer_registry.cc:113] Plugin optimizer for device_type GPU is enabled.\n",
      "2022-07-30 15:36:40.845812: I tensorflow/core/grappler/optimizers/custom_graph_optimizer_registry.cc:113] Plugin optimizer for device_type GPU is enabled.\n",
      "2022-07-30 15:36:40.958738: I tensorflow/core/grappler/optimizers/custom_graph_optimizer_registry.cc:113] Plugin optimizer for device_type GPU is enabled.\n"
     ]
    },
    {
     "name": "stdout",
     "output_type": "stream",
     "text": [
      "1249/1249 [==============================] - ETA: 0s - loss: 13.1703 - mse: 13.1870WARNING:tensorflow:Early stopping conditioned on metric `val_loss` which is not available. Available metrics are: loss,mse\n",
      "WARNING:tensorflow:Can save best model only with val_loss available, skipping.\n",
      "1249/1249 [==============================] - 9272s 7s/step - loss: 13.1703 - mse: 13.1870\n",
      "Epoch 2/2\n",
      "1215/1249 [============================>.] - ETA: 4:37 - loss: 6.6824 - mse: 6.6932"
     ]
    }
   ]
  },
  {
   "cell_type": "code",
   "source": [
    "model.save(\"./pknu_lstm.h5\")"
   ],
   "metadata": {
    "id": "tPJ-xaykfl_X",
    "pycharm": {
     "name": "#%%\n",
     "is_executing": true
    }
   },
   "execution_count": null,
   "outputs": []
  },
  {
   "cell_type": "code",
   "source": [
    "from sklearn.metrics import mean_squared_error, mean_absolute_error\n",
    "import numpy as np\n",
    "\n",
    "# X, y = load_data(\"/content/drive/MyDrive/wheather/data/only78.csv\")\n",
    "test_df = pd.read_csv(\"/content/drive/MyDrive/wheather/test/only78.csv\")[colnames].astype(np.float32)\n",
    "X = test_df.loc[:, colnames[1:]].values\n",
    "y = test_df.loc[:, colnames[0]].values\n",
    "\n",
    "y_score = model.predict(X)\n",
    "print(\"MSE: \" + str(mean_squared_error(y, y_score)))\n",
    "print(\"RMSE: \" + str(np.sqrt(mean_squared_error(y, y_score))))\n",
    "print(\"MAE: \" + str(mean_absolute_error(y, y_score)))\n",
    "# y_pred = np.argmax(y_score, axis=1)\n",
    "# pd.Series(y_pred, name=check_col[0]).to_csv(\"LSTM_result.csv\")"
   ],
   "metadata": {
    "id": "AJ-Q7M2JzJam",
    "pycharm": {
     "name": "#%%\n"
    }
   },
   "execution_count": null,
   "outputs": []
  },
  {
   "cell_type": "code",
   "source": [
    "import pandas as pd\n",
    "\n",
    "\n",
    "extract_col = ['YearMonthDayHourMinute', 'isitu-LST','insitu-TG','Band1','Band2','Band3','Band4','Band6','Band7','Band8','Band9','Band10','Band11','Band12','Band13','Band14','Band15','Band16','30daysBand3','30daysBand13','SolarZA','SateZA','ESR','Height','LandType','insitu-HM','insitu-TD']\n",
    "\n",
    "df = pd.read_csv(\"/content/drive/MyDrive/wheather/data/과제2 결측치 제거_3.2g.csv\")[extract_col]\n",
    "df['month'] = pd.to_datetime(df['YearMonthDayHourMinute'], format='%Y%m%d%H%M%S').dt.strftime('%m').astype(int)\n",
    "extract_col.append('month')\n",
    "\n",
    "# df['LandType'] += 1\n",
    "\n",
    "df.to_csv(\"/content/drive/MyDrive/wheather/data/과제2 결측치 제거_3.2g_2.csv\")"
   ],
   "metadata": {
    "id": "CVEYiMyVBqou",
    "pycharm": {
     "name": "#%%\n"
    }
   },
   "execution_count": null,
   "outputs": []
  }
 ]
}